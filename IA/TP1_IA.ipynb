{
  "cells": [
    {
      "cell_type": "markdown",
      "metadata": {
        "id": "Y91Y3uSlBh3v"
      },
      "source": [
        "## Intelligence Artificielle\n",
        "### Travaux pratiques n°1 (Calcul scientifique avec NumPy)\n",
        "### 2022-2023\n",
        "\n",
        "---\n"
      ]
    },
    {
      "cell_type": "markdown",
      "metadata": {
        "id": "jaZ5VbOMB5Fg"
      },
      "source": [
        "\n",
        "**Importation du module numpy**\n"
      ]
    },
    {
      "cell_type": "code",
      "execution_count": null,
      "metadata": {
        "id": "b7G_EKKhBQXw"
      },
      "outputs": [],
      "source": [
        "import numpy as np"
      ]
    },
    {
      "cell_type": "code",
      "source": [
        "print(np.array([1,2,3]).shape)"
      ],
      "metadata": {
        "colab": {
          "base_uri": "https://localhost:8080/"
        },
        "id": "EH1HdOqDpIpq",
        "outputId": "10eaa69d-8d1e-4214-eca6-71dbf13818d6"
      },
      "execution_count": null,
      "outputs": [
        {
          "output_type": "stream",
          "name": "stdout",
          "text": [
            "(3,)\n"
          ]
        }
      ]
    },
    {
      "cell_type": "markdown",
      "metadata": {
        "id": "I903dJlCCgif"
      },
      "source": [
        "**Exercice 1**"
      ]
    },
    {
      "cell_type": "markdown",
      "metadata": {
        "id": "fgcauH8REJCP"
      },
      "source": [
        "**1)** Créer un tableau unidimensionnel, nommé $vect$, de $12$ **éléments aléatoires** compris entre $0$ et $20$. Afficher $vect$\n"
      ]
    },
    {
      "cell_type": "code",
      "execution_count": null,
      "metadata": {
        "id": "EirH9Q-xEFFv",
        "colab": {
          "base_uri": "https://localhost:8080/"
        },
        "outputId": "bf5a2db1-1ca9-4d16-959f-e18cf366f4a5"
      },
      "outputs": [
        {
          "output_type": "stream",
          "name": "stdout",
          "text": [
            "[19  4 16 20  8  8 11 13  5  1 19 16]\n"
          ]
        }
      ],
      "source": [
        "t_b=np.random.randint(0,21,12)\n",
        "print(t_b)"
      ]
    },
    {
      "cell_type": "markdown",
      "metadata": {
        "id": "N2jWmUMNEZr_"
      },
      "source": [
        "**2)** Transformer $vect$ en un tableau 2D, nommée $t\\_b$, de taille $4 \\times 3$. Afficher $t\\_b$\n"
      ]
    },
    {
      "cell_type": "code",
      "execution_count": null,
      "metadata": {
        "id": "OyNdj6ZCEbv5",
        "colab": {
          "base_uri": "https://localhost:8080/"
        },
        "outputId": "8e7f9e02-1982-4101-e608-1afe3295d62c"
      },
      "outputs": [
        {
          "output_type": "stream",
          "name": "stdout",
          "text": [
            "[[19  4 16]\n",
            " [20  8  8]\n",
            " [11 13  5]\n",
            " [ 1 19 16]]\n"
          ]
        }
      ],
      "source": [
        "tb=np.reshape(t_b,(4,3))\n",
        "print(tb)"
      ]
    },
    {
      "cell_type": "code",
      "source": [
        "print(tb[0,0])"
      ],
      "metadata": {
        "colab": {
          "base_uri": "https://localhost:8080/"
        },
        "id": "c2ld7iW4pPlx",
        "outputId": "36fb5fca-0dde-4989-e639-8cb2aedc2379"
      },
      "execution_count": null,
      "outputs": [
        {
          "output_type": "stream",
          "name": "stdout",
          "text": [
            "19\n"
          ]
        }
      ]
    },
    {
      "cell_type": "markdown",
      "metadata": {
        "id": "cpvvQgibEcVW"
      },
      "source": [
        "**3)** Afficher la taille, la dimension et le nombre des éléments de $t\\_b$\n",
        ""
      ]
    },
    {
      "cell_type": "code",
      "execution_count": null,
      "metadata": {
        "id": "Avw0MoFiEeQq",
        "colab": {
          "base_uri": "https://localhost:8080/"
        },
        "outputId": "74c015a3-15f0-451b-f9c0-23e97e1ac6bf"
      },
      "outputs": [
        {
          "output_type": "stream",
          "name": "stdout",
          "text": [
            "(4, 3)\n",
            "2\n",
            "12\n"
          ]
        }
      ],
      "source": [
        "print(np.shape(tb))\n",
        "print(np.ndim(tb))\n",
        "print(np.size(tb))"
      ]
    },
    {
      "cell_type": "markdown",
      "metadata": {
        "id": "7nWEuEfXEepx"
      },
      "source": [
        "**4)** Afficher le maximum et la somme de chaque ligne de $t\\_b$"
      ]
    },
    {
      "cell_type": "code",
      "execution_count": null,
      "metadata": {
        "id": "qowEsOjhEgxG",
        "colab": {
          "base_uri": "https://localhost:8080/"
        },
        "outputId": "cadeb0d8-b95d-48cb-e8e3-3ab4ab3a4ad5"
      },
      "outputs": [
        {
          "output_type": "stream",
          "name": "stdout",
          "text": [
            "[15 18 15  5]\n",
            "[34 33 22  8]\n"
          ]
        }
      ],
      "source": [
        "print(np.max(tb,axis=1))\n",
        "print(np.sum(tb,axis=1))"
      ]
    },
    {
      "cell_type": "markdown",
      "metadata": {
        "id": "zxoN27AqEjtk"
      },
      "source": [
        "**5)** Transformer $t\\_b$ en un tableau de taille $4 \\times 4$, nommé $t\\_a$ . Afficher $t\\_a$\n"
      ]
    },
    {
      "cell_type": "code",
      "execution_count": null,
      "metadata": {
        "id": "cC_dYejVElVr",
        "colab": {
          "base_uri": "https://localhost:8080/"
        },
        "outputId": "a67b7805-bceb-48c9-e9d6-f6ed5e859d93"
      },
      "outputs": [
        {
          "output_type": "stream",
          "name": "stdout",
          "text": [
            "[[11  8 15  0]\n",
            " [18 15  4 15]\n",
            " [ 3  3  5  0]\n",
            " [11  8 15  0]]\n"
          ]
        }
      ],
      "source": [
        "t_sump=np.resize(t_b,[4,4])\n",
        "print(t_sump)"
      ]
    },
    {
      "cell_type": "markdown",
      "metadata": {
        "id": "IlFX81V1Elvc"
      },
      "source": [
        "**6)** Décomposer $t\\_a$ verticalement en $4$ tableaux $X$, $Y$, $Z$ et $T$ comportant chacun $4$ éléments. Afficher $X$, $Y$, $Z$ et $T$\n"
      ]
    },
    {
      "cell_type": "code",
      "execution_count": null,
      "metadata": {
        "id": "G2EYAZN7EnaN",
        "colab": {
          "base_uri": "https://localhost:8080/"
        },
        "outputId": "fb37c86a-1157-4964-d1c7-8d8ac266e5f7"
      },
      "outputs": [
        {
          "output_type": "stream",
          "name": "stdout",
          "text": [
            "[[11]\n",
            " [18]\n",
            " [ 3]\n",
            " [11]]/[[ 8]\n",
            " [15]\n",
            " [ 3]\n",
            " [ 8]]/[[15]\n",
            " [ 4]\n",
            " [ 5]\n",
            " [15]]/[[ 0]\n",
            " [15]\n",
            " [ 0]\n",
            " [ 0]]\n",
            "(4, 1)\n"
          ]
        }
      ],
      "source": [
        "x,y,z,t=np.split(t_sump,[1,2,3],axis=1)\n",
        "print(x,y,z,t,sep=\"/\")\n",
        "print(y.shape)\n"
      ]
    },
    {
      "cell_type": "markdown",
      "metadata": {
        "id": "Zg8M-F2dEnxV"
      },
      "source": [
        "**7)** Fusionner le tableau $X$ et $t\\_a$ de sorte que les lignes de $X$ sont ajoutées en tant que nouvelles lignes à $t\\_a$\n"
      ]
    },
    {
      "cell_type": "code",
      "execution_count": null,
      "metadata": {
        "id": "6Hfk3UE6Epjv",
        "colab": {
          "base_uri": "https://localhost:8080/"
        },
        "outputId": "2c522101-29c2-41ac-ec6d-062c71367121"
      },
      "outputs": [
        {
          "output_type": "stream",
          "name": "stdout",
          "text": [
            "[[11  8 15  0]\n",
            " [18 15  4 15]\n",
            " [ 3  3  5  0]\n",
            " [11  8 15  0]\n",
            " [11 18  3 11]]\n"
          ]
        }
      ],
      "source": [
        "\n",
        "t_r=np.concatenate([t_sump, x.reshape(1,4)])\n",
        "print(t_r)"
      ]
    },
    {
      "cell_type": "markdown",
      "metadata": {
        "id": "Y9Lhtbb8EsVE"
      },
      "source": [
        "**8)** \tDéfinir un tableau 1D, nommé $t\\_u$, contenant les éléments de $t\\_a$ triés dans l’ordre croissant de sorte que aucun élément ne se répète. Afficher $t\\_u$\n"
      ]
    },
    {
      "cell_type": "code",
      "execution_count": null,
      "metadata": {
        "id": "6ksWm6yAEuHJ",
        "colab": {
          "base_uri": "https://localhost:8080/"
        },
        "outputId": "36244bff-b4bf-4c7b-d534-83f03b6e8aad"
      },
      "outputs": [
        {
          "output_type": "stream",
          "name": "stdout",
          "text": [
            "[ 0  3  4  5  8 11 15 18]\n"
          ]
        }
      ],
      "source": [
        "t_u=np.unique(t_r)\n",
        "print(t_u)"
      ]
    },
    {
      "cell_type": "markdown",
      "metadata": {
        "id": "0sDwHNWBEvic"
      },
      "source": [
        "**9)** Transformer $t\\_u$ en un tableau de taille $4 \\times 3$. Puis, insérer les éléments de $Y$ à la deuxième colonne de $t\\_u$. Afficher $t\\_u$\n"
      ]
    },
    {
      "cell_type": "code",
      "execution_count": null,
      "metadata": {
        "id": "EWeybs9lExHp",
        "colab": {
          "base_uri": "https://localhost:8080/"
        },
        "outputId": "3709ad79-06c4-4b59-c7a2-4b5abebf1da2"
      },
      "outputs": [
        {
          "output_type": "stream",
          "name": "stdout",
          "text": [
            "[[ 0  3  8  4]\n",
            " [ 5  8 15 11]\n",
            " [15 18  3  0]\n",
            " [ 3  4  8  5]]\n"
          ]
        }
      ],
      "source": [
        "t_a=np.resize(t_u,(4,3))\n",
        "t_uu=np.insert(t_a,2,y.ravel(),axis=1)\n",
        "print(t_uu)"
      ]
    },
    {
      "cell_type": "markdown",
      "metadata": {
        "id": "9L6heY8rjigG"
      },
      "source": [
        "**Exercice 2**"
      ]
    },
    {
      "cell_type": "code",
      "execution_count": null,
      "metadata": {
        "id": "3H3ccs0Tjv0D"
      },
      "outputs": [],
      "source": [
        "sales = np.array([[100, 200, 150],\n",
        "                  [250, 300, 200],\n",
        "                  [175, 225, 275],\n",
        "                  [300, 250, 225]])"
      ]
    },
    {
      "cell_type": "code",
      "source": [
        "print(sales[2:,1])"
      ],
      "metadata": {
        "colab": {
          "base_uri": "https://localhost:8080/"
        },
        "id": "iQZ4ibW3HSyH",
        "outputId": "63107adb-64c0-43f0-b31d-bbb49eb41ec0"
      },
      "execution_count": null,
      "outputs": [
        {
          "output_type": "stream",
          "name": "stdout",
          "text": [
            "[225 250]\n"
          ]
        }
      ]
    },
    {
      "cell_type": "markdown",
      "metadata": {
        "id": "EvDiF4fBkBO7"
      },
      "source": [
        "<font color='blue'>**NB.**Les colonnes de $sales$ représentent les ventes de trois produits différents et les lignes représentent les mois de l’année, de Janvier à Avril </font>"
      ]
    },
    {
      "cell_type": "markdown",
      "metadata": {
        "id": "b27YG5gdjq3r"
      },
      "source": [
        "**1)** Calculer la moyenne globale des ventes"
      ]
    },
    {
      "cell_type": "code",
      "execution_count": null,
      "metadata": {
        "id": "aStqpNLDkc57",
        "colab": {
          "base_uri": "https://localhost:8080/"
        },
        "outputId": "24cd8580-1431-42e9-fd02-80748d6c7fa1"
      },
      "outputs": [
        {
          "output_type": "stream",
          "name": "stdout",
          "text": [
            "220.83333333333334\n"
          ]
        }
      ],
      "source": [
        "print(np.mean(sales))"
      ]
    },
    {
      "cell_type": "markdown",
      "metadata": {
        "id": "ehYh3r_Ck5hD"
      },
      "source": [
        "**2)** Calculer la somme des ventes pour chaque produit, en excluant le mois de Janvier"
      ]
    },
    {
      "cell_type": "code",
      "execution_count": null,
      "metadata": {
        "id": "LgGtJSySlPh8",
        "colab": {
          "base_uri": "https://localhost:8080/"
        },
        "outputId": "c04a5517-85ca-4226-edc1-c55f4b96ae7b"
      },
      "outputs": [
        {
          "output_type": "stream",
          "name": "stdout",
          "text": [
            "[750 675 775]\n"
          ]
        }
      ],
      "source": [
        "print(np.sum(sales[1:],axis=1))"
      ]
    },
    {
      "cell_type": "markdown",
      "metadata": {
        "id": "myv1_AcGlXOD"
      },
      "source": [
        "**3)** Calculer la somme des ventes pour chaque produit pour les mois où les ventes ont été supérieures à la moyenne globale"
      ]
    },
    {
      "cell_type": "code",
      "execution_count": null,
      "metadata": {
        "id": "qb0_8shYlWz1",
        "colab": {
          "base_uri": "https://localhost:8080/"
        },
        "outputId": "95a260ba-f982-4954-b228-17191f367a0d"
      },
      "outputs": [
        {
          "output_type": "stream",
          "name": "stdout",
          "text": [
            "[550 775 500]\n"
          ]
        }
      ],
      "source": [
        "s_v=np.sum(np.where(sales>np.mean(sales),sales,0),axis=0)\n",
        "print(s_v)"
      ]
    },
    {
      "cell_type": "markdown",
      "metadata": {
        "id": "djdEgZ11lRdT"
      },
      "source": [
        "**4)**\tCréer un tableau de booléens indiquant si chaque vente est supérieure ou égale à $200$"
      ]
    },
    {
      "cell_type": "code",
      "execution_count": null,
      "metadata": {
        "id": "n21-T9JOlmFE",
        "colab": {
          "base_uri": "https://localhost:8080/"
        },
        "outputId": "a036c2b6-87c6-43c2-9873-6d79ee36c6c5"
      },
      "outputs": [
        {
          "output_type": "stream",
          "name": "stdout",
          "text": [
            "[[False False False]\n",
            " [ True  True False]\n",
            " [False  True  True]\n",
            " [ True  True  True]]\n",
            "[[False False False]\n",
            " [ True  True False]\n",
            " [False  True  True]\n",
            " [ True  True  True]]\n"
          ]
        }
      ],
      "source": [
        "t=np.where(sales>200,True,False)\n",
        "print(t)\n",
        "tt=sales>200\n",
        "print(tt)"
      ]
    },
    {
      "cell_type": "markdown",
      "metadata": {
        "id": "yWa0f9Ovkd_7"
      },
      "source": [
        "**5)**\tMélanger les ventes du deuxième produit. Afficher $sales$ après la modification"
      ]
    },
    {
      "cell_type": "code",
      "execution_count": null,
      "metadata": {
        "id": "gil0w-TvEzq2",
        "colab": {
          "base_uri": "https://localhost:8080/"
        },
        "outputId": "3a768ab2-d1ea-4c01-9931-5638d7d3f3a2"
      },
      "outputs": [
        {
          "output_type": "stream",
          "name": "stdout",
          "text": [
            "[[100 250 150]\n",
            " [250 200 200]\n",
            " [175 225 275]\n",
            " [300 300 225]]\n"
          ]
        }
      ],
      "source": [
        "np.random.shuffle(sales[:,1])\n",
        "print(sales)"
      ]
    },
    {
      "cell_type": "markdown",
      "metadata": {
        "id": "De96DB9pEzHF"
      },
      "source": [
        "**6)** \tAfficher la position du plus grand élément de $sales$ sous forme d’un tuple (**ligne**, **colonne**)"
      ]
    },
    {
      "cell_type": "code",
      "execution_count": null,
      "metadata": {
        "id": "ij-HzbOiZFOT",
        "colab": {
          "base_uri": "https://localhost:8080/"
        },
        "outputId": "7f483877-8744-4994-c3a7-ae0c4efe4c3e"
      },
      "outputs": [
        {
          "output_type": "stream",
          "name": "stdout",
          "text": [
            "9\n",
            "(3, 0)\n"
          ]
        }
      ],
      "source": [
        "max=np.argmax(sales)\n",
        "print(max)\n",
        "maxpos=np.unravel_index(max,sales.shape)\n",
        "print(maxpos)"
      ]
    },
    {
      "cell_type": "code",
      "source": [
        "a=np.array([1,2,3,4])\n",
        "print(a[2],a[:2],a[1:2],a[1:],a[1:4:2],a[::2],sep=\" - \")\n",
        "print(a[-1])# Accès au dernier élément\n",
        "b=np.array([[5,6,7,8], [9,10,11,12]]) ; print(\"b=\\n\",b)\n",
        "print(\"b[:,0]=\\n\", b[:,0]) # Accès à la première colonne\n",
        "print(\"b[1,:]=\\n\", b[1,:]) # Accès à la deuxième ligne\n",
        "print(\"b[1,[0,2]]=\\n\", b[1,[0,2]]) # Accès à la ligne d’indice 1, et colonnes d’indices 0 et 2\n",
        "print(\"b[:2, 1:3]=\\n\", b[:2,1:3]) # Accès aux lignes d’indices 0 et 1, et colonnes d’indices 1, 2\n",
        "print(\"b[:2, :3]=\\n\", b[:2,:3])\n",
        "print(\"b[::2, ::2]=\\n\",b[::2,::2])\n",
        "print(\"Diagonale de b= \\n\",np.diag(b)) # Renvoie un tableau unidimensionnel avec les éléments de\n",
        "c=np.array([[5,6,7], [9,10,11], [13,14,15]])\n",
        "print(\"Diagonale de c= \\n\",np.diag(c)) # Renvoie un tableau unidimensionnel avec les éléments de\n"
      ],
      "metadata": {
        "colab": {
          "base_uri": "https://localhost:8080/"
        },
        "id": "G4YBy5jPR9uO",
        "outputId": "29c83303-73f6-4879-ae9e-d591a9d94375"
      },
      "execution_count": null,
      "outputs": [
        {
          "output_type": "stream",
          "name": "stdout",
          "text": [
            "3 - [1 2] - [2] - [2 3 4] - [2 4] - [1 3]\n",
            "4\n",
            "b=\n",
            " [[ 5  6  7  8]\n",
            " [ 9 10 11 12]]\n",
            "b[:,0]=\n",
            " [5 9]\n",
            "b[1,:]=\n",
            " [ 9 10 11 12]\n",
            "b[1,[0,2]]=\n",
            " [ 9 11]\n",
            "b[:2, 1:3]=\n",
            " [[ 6  7]\n",
            " [10 11]]\n",
            "b[:2, :3]=\n",
            " [[ 5  6  7]\n",
            " [ 9 10 11]]\n",
            "b[::2, ::2]=\n",
            " [[5 7]]\n",
            "Diagonale de b= \n",
            " [ 5 10]\n",
            "Diagonale de c= \n",
            " [ 5 10 15]\n"
          ]
        }
      ]
    }
  ],
  "metadata": {
    "colab": {
      "provenance": []
    },
    "kernelspec": {
      "display_name": "Python 3.10.4 64-bit",
      "language": "python",
      "name": "python3"
    },
    "language_info": {
      "name": "python",
      "version": "3.10.4"
    },
    "vscode": {
      "interpreter": {
        "hash": "27f6fea6f47ae512550f0b8facdbd035a93e1dd89633f7bf2dd00a2502c71d0d"
      }
    }
  },
  "nbformat": 4,
  "nbformat_minor": 0
}