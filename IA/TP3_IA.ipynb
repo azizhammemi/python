{
  "cells": [
    {
      "cell_type": "markdown",
      "metadata": {
        "id": "04L3iuVogYxp"
      },
      "source": [
        "## Intelligence Artificielle\n",
        "### Travaux pratiques n°3 <font color='blue'>Apprentissage non-supervisé avec $sklearn$\n",
        " </font>\n",
        "\n",
        "### 2022-2023\n",
        "\n",
        "---\n"
      ]
    },
    {
      "cell_type": "markdown",
      "metadata": {
        "id": "rmS1_JbygYxu"
      },
      "source": [
        "**Importation des bibliothèques**"
      ]
    },
    {
      "cell_type": "code",
      "execution_count": null,
      "metadata": {
        "id": "eYYcdZNAgYxu"
      },
      "outputs": [],
      "source": [
        "import pandas as pd\n",
        "import numpy as np\n",
        "import matplotlib.pyplot as plt\n",
        "import seaborn as sns\n",
        "\n",
        "from sklearn.cluster import KMeans,AgglomerativeClustering\n",
        "from sklearn.preprocessing import OneHotEncoder, MinMaxScaler\n",
        "from sklearn.metrics import silhouette_score, silhouette_samples\n",
        "\n",
        "from scipy.cluster.hierarchy import dendrogram, linkage\n",
        "\n",
        "import warnings\n",
        "warnings.filterwarnings('ignore')"
      ]
    },
    {
      "cell_type": "markdown",
      "source": [
        "**Assemblage Google Drive dans Colaboratory**"
      ],
      "metadata": {
        "id": "4sIafjaohb6S"
      }
    },
    {
      "cell_type": "code",
      "source": [
        "from google.colab import drive\n",
        "drive.mount('/content/drive')"
      ],
      "metadata": {
        "colab": {
          "base_uri": "https://localhost:8080/"
        },
        "id": "8c4zxDIdhbdz",
        "outputId": "41bb0185-cdf5-48ee-cf6a-2d3187e50eef"
      },
      "execution_count": null,
      "outputs": [
        {
          "output_type": "stream",
          "name": "stdout",
          "text": [
            "Mounted at /content/drive\n"
          ]
        }
      ]
    },
    {
      "cell_type": "markdown",
      "metadata": {
        "id": "uq07wD8CgYxv"
      },
      "source": [
        "**1)** \tImporter le jeu de données **clients.csv** dans un dataframe nommé $data\\_clients$. Ensuite, afficher les $5$ premières lignes du dataframe $data\\_clients$"
      ]
    },
    {
      "cell_type": "code",
      "execution_count": null,
      "metadata": {
        "id": "9XYw0bwUgYxw",
        "colab": {
          "base_uri": "https://localhost:8080/",
          "height": 206
        },
        "outputId": "dc38e13a-fd9a-4e0a-e299-ce348fe06d4b"
      },
      "outputs": [
        {
          "output_type": "execute_result",
          "data": {
            "text/plain": [
              "    Genre  Age  Annual Income  Spending Score\n",
              "0    Male   19             15              39\n",
              "1    Male   21             15              81\n",
              "2  Female   20             16               6\n",
              "3  Female   23             16              77\n",
              "4  Female   31             17              40"
            ],
            "text/html": [
              "\n",
              "  <div id=\"df-7e0d917f-8d78-4ec5-97a3-046af2f5799d\">\n",
              "    <div class=\"colab-df-container\">\n",
              "      <div>\n",
              "<style scoped>\n",
              "    .dataframe tbody tr th:only-of-type {\n",
              "        vertical-align: middle;\n",
              "    }\n",
              "\n",
              "    .dataframe tbody tr th {\n",
              "        vertical-align: top;\n",
              "    }\n",
              "\n",
              "    .dataframe thead th {\n",
              "        text-align: right;\n",
              "    }\n",
              "</style>\n",
              "<table border=\"1\" class=\"dataframe\">\n",
              "  <thead>\n",
              "    <tr style=\"text-align: right;\">\n",
              "      <th></th>\n",
              "      <th>Genre</th>\n",
              "      <th>Age</th>\n",
              "      <th>Annual Income</th>\n",
              "      <th>Spending Score</th>\n",
              "    </tr>\n",
              "  </thead>\n",
              "  <tbody>\n",
              "    <tr>\n",
              "      <th>0</th>\n",
              "      <td>Male</td>\n",
              "      <td>19</td>\n",
              "      <td>15</td>\n",
              "      <td>39</td>\n",
              "    </tr>\n",
              "    <tr>\n",
              "      <th>1</th>\n",
              "      <td>Male</td>\n",
              "      <td>21</td>\n",
              "      <td>15</td>\n",
              "      <td>81</td>\n",
              "    </tr>\n",
              "    <tr>\n",
              "      <th>2</th>\n",
              "      <td>Female</td>\n",
              "      <td>20</td>\n",
              "      <td>16</td>\n",
              "      <td>6</td>\n",
              "    </tr>\n",
              "    <tr>\n",
              "      <th>3</th>\n",
              "      <td>Female</td>\n",
              "      <td>23</td>\n",
              "      <td>16</td>\n",
              "      <td>77</td>\n",
              "    </tr>\n",
              "    <tr>\n",
              "      <th>4</th>\n",
              "      <td>Female</td>\n",
              "      <td>31</td>\n",
              "      <td>17</td>\n",
              "      <td>40</td>\n",
              "    </tr>\n",
              "  </tbody>\n",
              "</table>\n",
              "</div>\n",
              "      <button class=\"colab-df-convert\" onclick=\"convertToInteractive('df-7e0d917f-8d78-4ec5-97a3-046af2f5799d')\"\n",
              "              title=\"Convert this dataframe to an interactive table.\"\n",
              "              style=\"display:none;\">\n",
              "        \n",
              "  <svg xmlns=\"http://www.w3.org/2000/svg\" height=\"24px\"viewBox=\"0 0 24 24\"\n",
              "       width=\"24px\">\n",
              "    <path d=\"M0 0h24v24H0V0z\" fill=\"none\"/>\n",
              "    <path d=\"M18.56 5.44l.94 2.06.94-2.06 2.06-.94-2.06-.94-.94-2.06-.94 2.06-2.06.94zm-11 1L8.5 8.5l.94-2.06 2.06-.94-2.06-.94L8.5 2.5l-.94 2.06-2.06.94zm10 10l.94 2.06.94-2.06 2.06-.94-2.06-.94-.94-2.06-.94 2.06-2.06.94z\"/><path d=\"M17.41 7.96l-1.37-1.37c-.4-.4-.92-.59-1.43-.59-.52 0-1.04.2-1.43.59L10.3 9.45l-7.72 7.72c-.78.78-.78 2.05 0 2.83L4 21.41c.39.39.9.59 1.41.59.51 0 1.02-.2 1.41-.59l7.78-7.78 2.81-2.81c.8-.78.8-2.07 0-2.86zM5.41 20L4 18.59l7.72-7.72 1.47 1.35L5.41 20z\"/>\n",
              "  </svg>\n",
              "      </button>\n",
              "      \n",
              "  <style>\n",
              "    .colab-df-container {\n",
              "      display:flex;\n",
              "      flex-wrap:wrap;\n",
              "      gap: 12px;\n",
              "    }\n",
              "\n",
              "    .colab-df-convert {\n",
              "      background-color: #E8F0FE;\n",
              "      border: none;\n",
              "      border-radius: 50%;\n",
              "      cursor: pointer;\n",
              "      display: none;\n",
              "      fill: #1967D2;\n",
              "      height: 32px;\n",
              "      padding: 0 0 0 0;\n",
              "      width: 32px;\n",
              "    }\n",
              "\n",
              "    .colab-df-convert:hover {\n",
              "      background-color: #E2EBFA;\n",
              "      box-shadow: 0px 1px 2px rgba(60, 64, 67, 0.3), 0px 1px 3px 1px rgba(60, 64, 67, 0.15);\n",
              "      fill: #174EA6;\n",
              "    }\n",
              "\n",
              "    [theme=dark] .colab-df-convert {\n",
              "      background-color: #3B4455;\n",
              "      fill: #D2E3FC;\n",
              "    }\n",
              "\n",
              "    [theme=dark] .colab-df-convert:hover {\n",
              "      background-color: #434B5C;\n",
              "      box-shadow: 0px 1px 3px 1px rgba(0, 0, 0, 0.15);\n",
              "      filter: drop-shadow(0px 1px 2px rgba(0, 0, 0, 0.3));\n",
              "      fill: #FFFFFF;\n",
              "    }\n",
              "  </style>\n",
              "\n",
              "      <script>\n",
              "        const buttonEl =\n",
              "          document.querySelector('#df-7e0d917f-8d78-4ec5-97a3-046af2f5799d button.colab-df-convert');\n",
              "        buttonEl.style.display =\n",
              "          google.colab.kernel.accessAllowed ? 'block' : 'none';\n",
              "\n",
              "        async function convertToInteractive(key) {\n",
              "          const element = document.querySelector('#df-7e0d917f-8d78-4ec5-97a3-046af2f5799d');\n",
              "          const dataTable =\n",
              "            await google.colab.kernel.invokeFunction('convertToInteractive',\n",
              "                                                     [key], {});\n",
              "          if (!dataTable) return;\n",
              "\n",
              "          const docLinkHtml = 'Like what you see? Visit the ' +\n",
              "            '<a target=\"_blank\" href=https://colab.research.google.com/notebooks/data_table.ipynb>data table notebook</a>'\n",
              "            + ' to learn more about interactive tables.';\n",
              "          element.innerHTML = '';\n",
              "          dataTable['output_type'] = 'display_data';\n",
              "          await google.colab.output.renderOutput(dataTable, element);\n",
              "          const docLink = document.createElement('div');\n",
              "          docLink.innerHTML = docLinkHtml;\n",
              "          element.appendChild(docLink);\n",
              "        }\n",
              "      </script>\n",
              "    </div>\n",
              "  </div>\n",
              "  "
            ]
          },
          "metadata": {},
          "execution_count": 5
        }
      ],
      "source": [
        "data_clients=pd.read_csv('/content/drive/MyDrive/clients.csv', sep=\",\")\n",
        "data_clients.head()\n"
      ]
    },
    {
      "cell_type": "markdown",
      "metadata": {
        "id": "smG722BigYxx"
      },
      "source": [
        "**2)** \tCréer l’histogramme de distribution d’âges des clients de $data\\_clients$ en définissant $4$ intervalles\n",
        "\n",
        "\n"
      ]
    },
    {
      "cell_type": "code",
      "source": [
        "#matplotlib\n",
        "x=data_clients.iloc[:,[1]]\n",
        "\n",
        "plt.hist(x, range = (0, 100), bins = 5, color = 'yellow',\n",
        "            edgecolor = 'red')\n",
        "plt.xlabel('valeurs')\n",
        "plt.ylabel('nombres')\n",
        "plt.title('par age')\n",
        "#gsize=(2, 2))\"\"\"\n",
        "#----\n"
      ],
      "metadata": {
        "id": "wPFKdo9XYrrl",
        "colab": {
          "base_uri": "https://localhost:8080/",
          "height": 489
        },
        "outputId": "e6a57d89-b83e-4d08-b0ec-8b272c6d0d1c"
      },
      "execution_count": null,
      "outputs": [
        {
          "output_type": "execute_result",
          "data": {
            "text/plain": [
              "Text(0.5, 1.0, 'par age')"
            ]
          },
          "metadata": {},
          "execution_count": 6
        },
        {
          "output_type": "display_data",
          "data": {
            "text/plain": [
              "<Figure size 640x480 with 1 Axes>"
            ],
            "image/png": "[encoded data removed]"
          },
          "metadata": {}
        }
      ]
    },
    {
      "cell_type": "code",
      "source": [
        "#seaborn\n",
        "x=data_clients.iloc[:,[1]]\n",
        "plt.figure(figsize=(2, 2))\n",
        "sns.displot(x, color = 'green', kind = 'hist', rug = True)\n",
        "plt.figure(figsize=(2, 2))\n",
        "#-------\n",
        "\n",
        "plt.show()\n",
        "\n",
        "#sns.------\n"
      ],
      "metadata": {
        "id": "uw9Kp2WCYzwd",
        "colab": {
          "base_uri": "https://localhost:8080/",
          "height": 541
        },
        "outputId": "b38564d1-dc46-41bd-fa83-7b73a1bbcca6"
      },
      "execution_count": null,
      "outputs": [
        {
          "output_type": "display_data",
          "data": {
            "text/plain": [
              "<Figure size 200x200 with 0 Axes>"
            ]
          },
          "metadata": {}
        },
        {
          "output_type": "display_data",
          "data": {
            "text/plain": [
              "<Figure size 576.875x500 with 1 Axes>"
            ],
            "image/png": "[encoded data removed]"
          },
          "metadata": {}
        },
        {
          "output_type": "display_data",
          "data": {
            "text/plain": [
              "<Figure size 200x200 with 0 Axes>"
            ]
          },
          "metadata": {}
        }
      ]
    },
    {
      "cell_type": "markdown",
      "source": [
        "**3)** Créer l’**histogramme** et le **diagramme en secteur** pour représenter la distribution des clients par genre dans $data\\_clients$"
      ],
      "metadata": {
        "id": "V7jQmU64Y0Wm"
      }
    },
    {
      "cell_type": "code",
      "source": [
        "#Histogramme de distribution des clients par genre avec matplotlib\n",
        "\n",
        "x = data_clients.iloc[:,[0]]\n",
        "\n",
        "# visualisation sur 50 intervalles\n",
        "plt.hist(x, bins=50)\n",
        "plt.figure(figsize=(2, 2))\n",
        "#-----\n",
        "\n",
        "plt.show()"
      ],
      "metadata": {
        "id": "Ol9qij6VY-U2",
        "colab": {
          "base_uri": "https://localhost:8080/",
          "height": 447
        },
        "outputId": "6c7b6d87-67da-4f0f-9264-8613bd963c1b"
      },
      "execution_count": null,
      "outputs": [
        {
          "output_type": "display_data",
          "data": {
            "text/plain": [
              "<Figure size 640x480 with 1 Axes>"
            ],
            "image/png": "[encoded data removed]"
          },
          "metadata": {}
        },
        {
          "output_type": "display_data",
          "data": {
            "text/plain": [
              "<Figure size 200x200 with 0 Axes>"
            ]
          },
          "metadata": {}
        }
      ]
    },
    {
      "cell_type": "code",
      "source": [
        "#Histogramme de distribution des clients par genre avec seaborn\n",
        "sns.barplot(x = \"Genre\", y = \"Age\", data = data_clients);"
      ],
      "metadata": {
        "id": "-IStzeb1o92o",
        "colab": {
          "base_uri": "https://localhost:8080/",
          "height": 449
        },
        "outputId": "a5a51d2c-4b15-417e-a43d-f9b97f0fe296"
      },
      "execution_count": null,
      "outputs": [
        {
          "output_type": "display_data",
          "data": {
            "text/plain": [
              "<Figure size 640x480 with 1 Axes>"
            ],
            "image/png": "[encoded data removed]"
          },
          "metadata": {}
        }
      ]
    },
    {
      "cell_type": "code",
      "execution_count": null,
      "metadata": {
        "id": "_FKTm0AvgYxz",
        "colab": {
          "base_uri": "https://localhost:8080/",
          "height": 423
        },
        "outputId": "3529dc90-edc3-4d0b-83f6-6e3dd2e54643"
      },
      "outputs": [
        {
          "output_type": "execute_result",
          "data": {
            "text/plain": [
              "<Axes: ylabel='Age'>"
            ]
          },
          "metadata": {},
          "execution_count": 71
        },
        {
          "output_type": "display_data",
          "data": {
            "text/plain": [
              "<Figure size 640x480 with 1 Axes>"
            ],
            "image/png": "[encoded data removed]"
          },
          "metadata": {}
        }
      ],
      "source": [
        "#Diagramme en secteur de distribution des clients par genre\n",
        "data_clients.groupby(['Genre']).sum().plot(kind='pie', y='Age', autopct='%1.0f%%')\n",
        "\n",
        "#plt.show()"
      ]
    },
    {
      "cell_type": "markdown",
      "source": [
        "**4)** Supprimer la colonne **Age** de $data\\_clients$. Afficher $data\\_clients$"
      ],
      "metadata": {
        "id": "5IMF1h5fZGmu"
      }
    },
    {
      "cell_type": "code",
      "source": [
        "#data_clients.------\n",
        "data_clients.drop(['Age'], axis=1)"
      ],
      "metadata": {
        "id": "9SfiADbqZWVO",
        "colab": {
          "base_uri": "https://localhost:8080/",
          "height": 424
        },
        "outputId": "c65b1887-88f5-4119-899f-4f51faf3e686"
      },
      "execution_count": null,
      "outputs": [
        {
          "output_type": "execute_result",
          "data": {
            "text/plain": [
              "      Genre  Annual Income  Spending Score\n",
              "0      Male             15              39\n",
              "1      Male             15              81\n",
              "2    Female             16               6\n",
              "3    Female             16              77\n",
              "4    Female             17              40\n",
              "..      ...            ...             ...\n",
              "195  Female            120              79\n",
              "196  Female            126              28\n",
              "197    Male            126              74\n",
              "198    Male            137              18\n",
              "199    Male            137              83\n",
              "\n",
              "[200 rows x 3 columns]"
            ],
            "text/html": [
              "\n",
              "  <div id=\"df-25716ee7-c4c6-47d5-800c-60642cbb8dcb\">\n",
              "    <div class=\"colab-df-container\">\n",
              "      <div>\n",
              "<style scoped>\n",
              "    .dataframe tbody tr th:only-of-type {\n",
              "        vertical-align: middle;\n",
              "    }\n",
              "\n",
              "    .dataframe tbody tr th {\n",
              "        vertical-align: top;\n",
              "    }\n",
              "\n",
              "    .dataframe thead th {\n",
              "        text-align: right;\n",
              "    }\n",
              "</style>\n",
              "<table border=\"1\" class=\"dataframe\">\n",
              "  <thead>\n",
              "    <tr style=\"text-align: right;\">\n",
              "      <th></th>\n",
              "      <th>Genre</th>\n",
              "      <th>Annual Income</th>\n",
              "      <th>Spending Score</th>\n",
              "    </tr>\n",
              "  </thead>\n",
              "  <tbody>\n",
              "    <tr>\n",
              "      <th>0</th>\n",
              "      <td>Male</td>\n",
              "      <td>15</td>\n",
              "      <td>39</td>\n",
              "    </tr>\n",
              "    <tr>\n",
              "      <th>1</th>\n",
              "      <td>Male</td>\n",
              "      <td>15</td>\n",
              "      <td>81</td>\n",
              "    </tr>\n",
              "    <tr>\n",
              "      <th>2</th>\n",
              "      <td>Female</td>\n",
              "      <td>16</td>\n",
              "      <td>6</td>\n",
              "    </tr>\n",
              "    <tr>\n",
              "      <th>3</th>\n",
              "      <td>Female</td>\n",
              "      <td>16</td>\n",
              "      <td>77</td>\n",
              "    </tr>\n",
              "    <tr>\n",
              "      <th>4</th>\n",
              "      <td>Female</td>\n",
              "      <td>17</td>\n",
              "      <td>40</td>\n",
              "    </tr>\n",
              "    <tr>\n",
              "      <th>...</th>\n",
              "      <td>...</td>\n",
              "      <td>...</td>\n",
              "      <td>...</td>\n",
              "    </tr>\n",
              "    <tr>\n",
              "      <th>195</th>\n",
              "      <td>Female</td>\n",
              "      <td>120</td>\n",
              "      <td>79</td>\n",
              "    </tr>\n",
              "    <tr>\n",
              "      <th>196</th>\n",
              "      <td>Female</td>\n",
              "      <td>126</td>\n",
              "      <td>28</td>\n",
              "    </tr>\n",
              "    <tr>\n",
              "      <th>197</th>\n",
              "      <td>Male</td>\n",
              "      <td>126</td>\n",
              "      <td>74</td>\n",
              "    </tr>\n",
              "    <tr>\n",
              "      <th>198</th>\n",
              "      <td>Male</td>\n",
              "      <td>137</td>\n",
              "      <td>18</td>\n",
              "    </tr>\n",
              "    <tr>\n",
              "      <th>199</th>\n",
              "      <td>Male</td>\n",
              "      <td>137</td>\n",
              "      <td>83</td>\n",
              "    </tr>\n",
              "  </tbody>\n",
              "</table>\n",
              "<p>200 rows × 3 columns</p>\n",
              "</div>\n",
              "      <button class=\"colab-df-convert\" onclick=\"convertToInteractive('df-25716ee7-c4c6-47d5-800c-60642cbb8dcb')\"\n",
              "              title=\"Convert this dataframe to an interactive table.\"\n",
              "              style=\"display:none;\">\n",
              "        \n",
              "  <svg xmlns=\"http://www.w3.org/2000/svg\" height=\"24px\"viewBox=\"0 0 24 24\"\n",
              "       width=\"24px\">\n",
              "    <path d=\"M0 0h24v24H0V0z\" fill=\"none\"/>\n",
              "    <path d=\"M18.56 5.44l.94 2.06.94-2.06 2.06-.94-2.06-.94-.94-2.06-.94 2.06-2.06.94zm-11 1L8.5 8.5l.94-2.06 2.06-.94-2.06-.94L8.5 2.5l-.94 2.06-2.06.94zm10 10l.94 2.06.94-2.06 2.06-.94-2.06-.94-.94-2.06-.94 2.06-2.06.94z\"/><path d=\"M17.41 7.96l-1.37-1.37c-.4-.4-.92-.59-1.43-.59-.52 0-1.04.2-1.43.59L10.3 9.45l-7.72 7.72c-.78.78-.78 2.05 0 2.83L4 21.41c.39.39.9.59 1.41.59.51 0 1.02-.2 1.41-.59l7.78-7.78 2.81-2.81c.8-.78.8-2.07 0-2.86zM5.41 20L4 18.59l7.72-7.72 1.47 1.35L5.41 20z\"/>\n",
              "  </svg>\n",
              "      </button>\n",
              "      \n",
              "  <style>\n",
              "    .colab-df-container {\n",
              "      display:flex;\n",
              "      flex-wrap:wrap;\n",
              "      gap: 12px;\n",
              "    }\n",
              "\n",
              "    .colab-df-convert {\n",
              "      background-color: #E8F0FE;\n",
              "      border: none;\n",
              "      border-radius: 50%;\n",
              "      cursor: pointer;\n",
              "      display: none;\n",
              "      fill: #1967D2;\n",
              "      height: 32px;\n",
              "      padding: 0 0 0 0;\n",
              "      width: 32px;\n",
              "    }\n",
              "\n",
              "    .colab-df-convert:hover {\n",
              "      background-color: #E2EBFA;\n",
              "      box-shadow: 0px 1px 2px rgba(60, 64, 67, 0.3), 0px 1px 3px 1px rgba(60, 64, 67, 0.15);\n",
              "      fill: #174EA6;\n",
              "    }\n",
              "\n",
              "    [theme=dark] .colab-df-convert {\n",
              "      background-color: #3B4455;\n",
              "      fill: #D2E3FC;\n",
              "    }\n",
              "\n",
              "    [theme=dark] .colab-df-convert:hover {\n",
              "      background-color: #434B5C;\n",
              "      box-shadow: 0px 1px 3px 1px rgba(0, 0, 0, 0.15);\n",
              "      filter: drop-shadow(0px 1px 2px rgba(0, 0, 0, 0.3));\n",
              "      fill: #FFFFFF;\n",
              "    }\n",
              "  </style>\n",
              "\n",
              "      <script>\n",
              "        const buttonEl =\n",
              "          document.querySelector('#df-25716ee7-c4c6-47d5-800c-60642cbb8dcb button.colab-df-convert');\n",
              "        buttonEl.style.display =\n",
              "          google.colab.kernel.accessAllowed ? 'block' : 'none';\n",
              "\n",
              "        async function convertToInteractive(key) {\n",
              "          const element = document.querySelector('#df-25716ee7-c4c6-47d5-800c-60642cbb8dcb');\n",
              "          const dataTable =\n",
              "            await google.colab.kernel.invokeFunction('convertToInteractive',\n",
              "                                                     [key], {});\n",
              "          if (!dataTable) return;\n",
              "\n",
              "          const docLinkHtml = 'Like what you see? Visit the ' +\n",
              "            '<a target=\"_blank\" href=https://colab.research.google.com/notebooks/data_table.ipynb>data table notebook</a>'\n",
              "            + ' to learn more about interactive tables.';\n",
              "          element.innerHTML = '';\n",
              "          dataTable['output_type'] = 'display_data';\n",
              "          await google.colab.output.renderOutput(dataTable, element);\n",
              "          const docLink = document.createElement('div');\n",
              "          docLink.innerHTML = docLinkHtml;\n",
              "          element.appendChild(docLink);\n",
              "        }\n",
              "      </script>\n",
              "    </div>\n",
              "  </div>\n",
              "  "
            ]
          },
          "metadata": {},
          "execution_count": 80
        }
      ]
    },
    {
      "cell_type": "markdown",
      "source": [
        "**5)** Normaliser les valeurs des attributs **Annual Income** et **Spending Score** de $data\\_clients$ afin de les mettre à l’échelle de $0$ à $1$ (utiliser la classe **<font color='blue'>MinMaxScaler </font>** de la bibliothèque **<font color='blue'>sklearn.preprocessing</font>**)"
      ],
      "metadata": {
        "id": "sCL-2apTZXYf"
      }
    },
    {
      "cell_type": "code",
      "execution_count": null,
      "metadata": {
        "id": "o8t7ToeXgYx0",
        "colab": {
          "base_uri": "https://localhost:8080/"
        },
        "outputId": "ae8feb3e-b1ec-4275-fefc-a6c8a8719bd2"
      },
      "outputs": [
        {
          "output_type": "stream",
          "name": "stdout",
          "text": [
            "\n",
            "********** Normalisation*********\n",
            "\n",
            "Moyenne apres le Min max Scaling :\n",
            "MYCT=0.37, MMAX=0.50\n",
            "\n",
            "\n",
            "Valeur minimale et maximale pour la feature Annual Income apres min max scaling: \n",
            "MIN=0.00, MAX=1.00\n",
            "\n",
            "\n",
            "Valeur minimale et maximale pour la feature Spending Score apres min max scaling : \n",
            "MIN=0.00, MAX=1.00\n"
          ]
        }
      ],
      "source": [
        "minmax_scale = MinMaxScaler().fit(data_clients[['Annual Income', 'Spending Score']])\n",
        "df_minmax = minmax_scale.transform(data_clients[['Annual Income', 'Spending Score']])\n",
        "\n",
        "#imprimer un retour à la ligne pour une meilleur clarete de lecture\n",
        "print('\\n********** Normalisation*********\\n')\n",
        "\n",
        "print('Moyenne apres le Min max Scaling :\\nMYCT={:.2f}, MMAX={:.2f}'\n",
        ".format(df_minmax[:,0].mean(), df_minmax[:,1].mean()))\n",
        "\n",
        "print('\\n')\n",
        "\n",
        "print('Valeur minimale et maximale pour la feature Annual Income apres min max scaling: \\nMIN={:.2f}, MAX={:.2f}'\n",
        ".format(df_minmax[:,0].min(), df_minmax[:,0].max()))\n",
        "\n",
        "print('\\n')\n",
        "\n",
        "print('Valeur minimale et maximale pour la feature Spending Score apres min max scaling : \\nMIN={:.2f}, MAX={:.2f}'\n",
        ".format(df_minmax[:,1].min(), df_minmax[:,1].max()))"
      ]
    },
    {
      "cell_type": "markdown",
      "metadata": {
        "id": "gOiz0xSVgYxy"
      },
      "source": [
        "**6)** \tTransformer l’attribut **Genre** en $2$ variables binaires (**Genre=\"Male\"**, **Genre=\"Female\"**) en utilisant la fonction **<font color='blue'>OneHotEncoder</font>** de la bibliothèque **<font color='blue'>sklearn.preprocessing</font>**. Enregistrer le résultat de la transformation dans un dataframe nommé $data\\_trans$"
      ]
    },
    {
      "cell_type": "code",
      "execution_count": null,
      "metadata": {
        "id": "MLEv1j-tgYx1",
        "colab": {
          "base_uri": "https://localhost:8080/"
        },
        "outputId": "0e346b4b-4c8a-4d02-b17e-035b3f704783"
      },
      "outputs": [
        {
          "output_type": "stream",
          "name": "stdout",
          "text": [
            "[[1. 0. 0.]\n",
            " [1. 0. 0.]\n",
            " [1. 0. 0.]\n",
            " ...\n",
            " [0. 0. 1.]\n",
            " [0. 0. 1.]\n",
            " [0. 0. 1.]]\n"
          ]
        }
      ],
      "source": [
        "x = data_clients.iloc[:,[0]]\n",
        "\n",
        "y = OneHotEncoder().fit_transform(x).toarray()\n",
        "print(y)\n"
      ]
    },
    {
      "cell_type": "markdown",
      "metadata": {
        "id": "EqXds8RggYxz"
      },
      "source": [
        "**7)** \tReconstruire le dataframe $data\\_clients$ en concaténant les données transformées en binaire ($data\\_trans$) avec les colonnes d’attributs **Annual Income** et **Spending Score**"
      ]
    },
    {
      "cell_type": "code",
      "execution_count": null,
      "metadata": {
        "id": "ORzG_5HngYx1"
      },
      "outputs": [],
      "source": [
        "#data_clients=pd.concat(--------------------------------)"
      ]
    },
    {
      "cell_type": "markdown",
      "metadata": {
        "id": "GCUV2u9tgYx0"
      },
      "source": [
        "**8)** \tTransformer les données des colonnes **Annual Income** et **Spending Score** de $data\\_clients$ en un tableau *ndarray* nommé $X$. Ensuite, afficher le type et la taille de $X$  "
      ]
    },
    {
      "cell_type": "code",
      "source": [],
      "metadata": {
        "id": "wzPBZpG2a_o9"
      },
      "execution_count": null,
      "outputs": []
    },
    {
      "cell_type": "markdown",
      "metadata": {
        "id": "SmrH2nsrgYx1"
      },
      "source": [
        "**9)** \tConstruire un modèle appelé $km\\_model$ en appliquant l’algorithme **Kmeans** sur $X$ avec $K=3$ clusters (utiliser la classe **<font color='blue'>KMeans</font>** de la bibliothèque **<font color='blue'>sklearn.cluster</font>**)"
      ]
    },
    {
      "cell_type": "code",
      "source": [
        "#km_model=-----"
      ],
      "metadata": {
        "id": "qX36-dxJblne"
      },
      "execution_count": null,
      "outputs": []
    },
    {
      "cell_type": "markdown",
      "metadata": {
        "id": "JBfJhxUXgYx2"
      },
      "source": [
        "**10)** \tReprésenter un scatter plot pour visualiser les observations de $data\\_clients$ en fonction de **Annual Income** et **Spending Score**, en marquant les centres des $3$ clusters obtenus par $km\\_model$"
      ]
    },
    {
      "cell_type": "code",
      "execution_count": null,
      "metadata": {
        "id": "5xDPfpBVgYx3"
      },
      "outputs": [],
      "source": [
        "#------\n",
        "\n",
        "#plt.show()"
      ]
    },
    {
      "cell_type": "markdown",
      "source": [
        "**11)** Déterminer le meilleur choix pour le nombre de clusters $K$ ($K=2...15$) en appliquant **K-means** à $X$. Tracer **deux courbes** sur la même figure :\n",
        "\n",
        "a.   Une courbe de la **largeur de silhouette** en fonction du **nombre de clusters $K$**\n",
        "\n",
        "b.   Une courbe de la **somme des carrés des distances intra-cluster (SSE)** en fonction du **nombre de clusters $K$** (**<font color='green'>méthode \"elbow\"</font>**)\n",
        "\n",
        "<u>Identifier le meilleur point pour le choix optimal de $K$ sur le graphique</u>\n"
      ],
      "metadata": {
        "id": "rUbiAzhcbvo_"
      }
    },
    {
      "cell_type": "code",
      "execution_count": null,
      "metadata": {
        "id": "htLdOFxZgYx4"
      },
      "outputs": [],
      "source": [
        "#------\n",
        "\n",
        "#plt.show()"
      ]
    },
    {
      "cell_type": "markdown",
      "metadata": {
        "id": "lcMihShggYx3"
      },
      "source": [
        "**12)** Appliquer l’algorithme **CAH** avec la mesure de distance **\"écart usuel moyen\"** pour construire un modèle nommé $cah\\_model$ à partir de $X$ qui aura pour objectif de diviser les données en $9$ clusters (utiliser la classe **<font color='blue'>AgglomerativeClustering</font>** de la bibliothèque **<font color='blue'>sklearn.cluster</font>**)"
      ]
    },
    {
      "cell_type": "code",
      "execution_count": null,
      "metadata": {
        "id": "o-07C7J-gYx4"
      },
      "outputs": [],
      "source": [
        "#cah_model= --------------"
      ]
    },
    {
      "cell_type": "markdown",
      "metadata": {
        "id": "InRSkcAhgYx3"
      },
      "source": [
        "**13)** \tDéterminer les listes d’indices des observations des $9$ clusters de $cah\\_model$ à partir de $X$"
      ]
    },
    {
      "cell_type": "code",
      "source": [
        "\n"
      ],
      "metadata": {
        "id": "D6MeMMUAi0rG"
      },
      "execution_count": null,
      "outputs": []
    },
    {
      "cell_type": "markdown",
      "metadata": {
        "id": "4lJJPzhegYx5"
      },
      "source": [
        "**14)** \tCalculer l’**indice de silhouette** de chaque observation en utilisant $cah\\_model$, puis afficher-les sous forme d’un tableau unidimensionnel (ndarray)"
      ]
    },
    {
      "cell_type": "code",
      "execution_count": null,
      "metadata": {
        "id": "tsTVd8-egYx5"
      },
      "outputs": [],
      "source": []
    },
    {
      "cell_type": "markdown",
      "metadata": {
        "id": "2R3iJozngYx4"
      },
      "source": [
        "**14)** Représenter **graphiquement** le **dendrogramme** obtenu en appliquant l'algorithme CAH avec la mesure de distance \"écart de ward\""
      ]
    },
    {
      "cell_type": "code",
      "execution_count": null,
      "metadata": {
        "id": "fZavfO93gYx5"
      },
      "outputs": [],
      "source": [
        "#plt.figure(figsize=(10, 7))\n",
        "#plt.title(\"Dendogram\")\n",
        "#-------\n",
        "\n",
        "#plt.show()"
      ]
    }
  ],
  "metadata": {
    "kernelspec": {
      "display_name": "Python 3",
      "language": "python",
      "name": "python3"
    },
    "language_info": {
      "codemirror_mode": {
        "name": "ipython",
        "version": 3
      },
      "file_extension": ".py",
      "mimetype": "text/x-python",
      "name": "python",
      "nbconvert_exporter": "python",
      "pygments_lexer": "ipython3",
      "version": "3.7.3"
    },
    "colab": {
      "provenance": []
    }
  },
  "nbformat": 4,
  "nbformat_minor": 0
}